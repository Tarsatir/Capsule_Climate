{
 "cells": [
  {
   "cell_type": "code",
   "execution_count": 25,
   "metadata": {},
   "outputs": [],
   "source": [
    "import numpy as np\n",
    "import pandas as pd"
   ]
  },
  {
   "cell_type": "code",
   "execution_count": 26,
   "metadata": {},
   "outputs": [
    {
     "data": {
      "text/html": [
       "<div>\n",
       "<style scoped>\n",
       "    .dataframe tbody tr th:only-of-type {\n",
       "        vertical-align: middle;\n",
       "    }\n",
       "\n",
       "    .dataframe tbody tr th {\n",
       "        vertical-align: top;\n",
       "    }\n",
       "\n",
       "    .dataframe thead th {\n",
       "        text-align: right;\n",
       "    }\n",
       "</style>\n",
       "<table border=\"1\" class=\"dataframe\">\n",
       "  <thead>\n",
       "    <tr style=\"text-align: right;\">\n",
       "      <th></th>\n",
       "      <th>y</th>\n",
       "      <th>α_maxdev</th>\n",
       "      <th>ω</th>\n",
       "      <th>λ</th>\n",
       "      <th>κ_upper</th>\n",
       "      <th>prog</th>\n",
       "      <th>μ1</th>\n",
       "      <th>ϵ_w</th>\n",
       "      <th>ϵ_μ</th>\n",
       "      <th>p_f</th>\n",
       "      <th>ψ_P</th>\n",
       "      <th>ψ_Q</th>\n",
       "      <th>ψ_E</th>\n",
       "    </tr>\n",
       "  </thead>\n",
       "  <tbody>\n",
       "    <tr>\n",
       "      <th>0</th>\n",
       "      <td>em_index</td>\n",
       "      <td>0.029</td>\n",
       "      <td>0.032</td>\n",
       "      <td>0.071</td>\n",
       "      <td>0.240</td>\n",
       "      <td>0.031</td>\n",
       "      <td>0.053</td>\n",
       "      <td>0.059</td>\n",
       "      <td>0.031</td>\n",
       "      <td>0.241</td>\n",
       "      <td>0.026</td>\n",
       "      <td>0.026</td>\n",
       "      <td>0.048</td>\n",
       "    </tr>\n",
       "    <tr>\n",
       "      <th>1</th>\n",
       "      <td>energy_percentage</td>\n",
       "      <td>0.025</td>\n",
       "      <td>0.025</td>\n",
       "      <td>0.040</td>\n",
       "      <td>0.598</td>\n",
       "      <td>0.027</td>\n",
       "      <td>0.026</td>\n",
       "      <td>0.027</td>\n",
       "      <td>0.026</td>\n",
       "      <td>0.031</td>\n",
       "      <td>0.026</td>\n",
       "      <td>0.026</td>\n",
       "      <td>0.033</td>\n",
       "    </tr>\n",
       "    <tr>\n",
       "      <th>2</th>\n",
       "      <td>GDP</td>\n",
       "      <td>0.046</td>\n",
       "      <td>0.069</td>\n",
       "      <td>0.135</td>\n",
       "      <td>0.075</td>\n",
       "      <td>0.139</td>\n",
       "      <td>0.170</td>\n",
       "      <td>0.057</td>\n",
       "      <td>0.043</td>\n",
       "      <td>0.106</td>\n",
       "      <td>0.027</td>\n",
       "      <td>0.026</td>\n",
       "      <td>0.079</td>\n",
       "    </tr>\n",
       "    <tr>\n",
       "      <th>3</th>\n",
       "      <td>bankrupt_cp</td>\n",
       "      <td>0.037</td>\n",
       "      <td>0.079</td>\n",
       "      <td>0.176</td>\n",
       "      <td>0.051</td>\n",
       "      <td>0.049</td>\n",
       "      <td>0.085</td>\n",
       "      <td>0.070</td>\n",
       "      <td>0.043</td>\n",
       "      <td>0.050</td>\n",
       "      <td>0.032</td>\n",
       "      <td>0.050</td>\n",
       "      <td>0.144</td>\n",
       "    </tr>\n",
       "    <tr>\n",
       "      <th>4</th>\n",
       "      <td>GINI_I</td>\n",
       "      <td>0.031</td>\n",
       "      <td>0.034</td>\n",
       "      <td>0.061</td>\n",
       "      <td>0.041</td>\n",
       "      <td>0.362</td>\n",
       "      <td>0.130</td>\n",
       "      <td>0.053</td>\n",
       "      <td>0.028</td>\n",
       "      <td>0.082</td>\n",
       "      <td>0.025</td>\n",
       "      <td>0.025</td>\n",
       "      <td>0.079</td>\n",
       "    </tr>\n",
       "  </tbody>\n",
       "</table>\n",
       "</div>"
      ],
      "text/plain": [
       "                   y  α_maxdev      ω      λ  κ_upper   prog     μ1    ϵ_w  \\\n",
       "0           em_index     0.029  0.032  0.071    0.240  0.031  0.053  0.059   \n",
       "1  energy_percentage     0.025  0.025  0.040    0.598  0.027  0.026  0.027   \n",
       "2                GDP     0.046  0.069  0.135    0.075  0.139  0.170  0.057   \n",
       "3        bankrupt_cp     0.037  0.079  0.176    0.051  0.049  0.085  0.070   \n",
       "4             GINI_I     0.031  0.034  0.061    0.041  0.362  0.130  0.053   \n",
       "\n",
       "     ϵ_μ    p_f    ψ_P    ψ_Q    ψ_E  \n",
       "0  0.031  0.241  0.026  0.026  0.048  \n",
       "1  0.026  0.031  0.026  0.026  0.033  \n",
       "2  0.043  0.106  0.027  0.026  0.079  \n",
       "3  0.043  0.050  0.032  0.050  0.144  \n",
       "4  0.028  0.082  0.025  0.025  0.079  "
      ]
     },
     "execution_count": 26,
     "metadata": {},
     "output_type": "execute_result"
    }
   ],
   "source": [
    "df = pd.read_csv('sensitivity_runs/output_data/KS_mean_values.csv')\n",
    "df.round(3).head()"
   ]
  },
  {
   "cell_type": "code",
   "execution_count": 27,
   "metadata": {},
   "outputs": [
    {
     "name": "stdout",
     "output_type": "stream",
     "text": [
      "['y', 'α_maxdev', 'ω', 'λ', 'κ_upper', 'prog', 'μ1', 'ϵ_w', 'ϵ_μ', 'p_f', 'ψ_P', 'ψ_Q', 'ψ_E']\n"
     ]
    }
   ],
   "source": [
    "print(df.columns.to_list())"
   ]
  },
  {
   "cell_type": "code",
   "execution_count": 28,
   "metadata": {},
   "outputs": [
    {
     "name": "stdout",
     "output_type": "stream",
     "text": [
      "['em_index', 'energy_percentage', 'GDP', 'bankrupt_cp', 'GINI_I', 'GINI_W', 'LIS', 'avg_pi_LP', 'avg_A_EE', 'avg_A_EF', 'U', 'total_I', 'total_C']\n"
     ]
    }
   ],
   "source": [
    "print(df.y.to_list())"
   ]
  },
  {
   "cell_type": "code",
   "execution_count": 29,
   "metadata": {},
   "outputs": [],
   "source": [
    "# rows = [\n",
    "#     'GDP_1st', \n",
    "#     'GDP_2nd', \n",
    "#     'LIS_1st', \n",
    "#     'GINI_I_1st', \n",
    "#     'GINI_W_1st', \n",
    "#     'U_1st', \n",
    "#     'U_2nd',\n",
    "#     'dI_1st', \n",
    "#     'dC_1st', \n",
    "#     'bankr_1st', \n",
    "#     'LP_g_1st', \n",
    "#     'EE_g_1st', \n",
    "#     'EF_g_1st', \n",
    "#     'em2030', \n",
    "#     'em2040', \n",
    "#     'em2050'\n",
    "# ]\n",
    "rows = ['em_index', 'energy_percentage', 'GDP', 'bankrupt_cp', 'GINI_I', 'GINI_W', 'LIS', 'avg_pi_LP', 'avg_A_EE', 'avg_A_EF', 'U', 'total_I', 'total_C']\n",
    "\n"
   ]
  },
  {
   "cell_type": "markdown",
   "metadata": {},
   "source": []
  },
  {
   "cell_type": "code",
   "execution_count": 30,
   "metadata": {},
   "outputs": [],
   "source": [
    "df = df.loc[df.y.isin(rows)]"
   ]
  },
  {
   "cell_type": "code",
   "execution_count": 31,
   "metadata": {},
   "outputs": [],
   "source": [
    "# rownames = [\n",
    "#     '$dGDP$ 1', \n",
    "#     '$dGDP$ 2', \n",
    "#     '$LIS$', \n",
    "#     'GINI $I$', \n",
    "#     'GINI $W$', \n",
    "#     '$U$ 1', \n",
    "#     '$U$ 2',\n",
    "#     '$dI$', \n",
    "#     '$dC$', \n",
    "#     'bankr', \n",
    "#     '$dLP$', \n",
    "#     '$dEE$', \n",
    "#     '$dEF$', \n",
    "#     'em2030', \n",
    "#     'em2040', \n",
    "#     'em2050'\n",
    "# ]\n",
    "rownames = [\n",
    "    \"CO_2 Emission Index\",\n",
    "    \"Energy Percentage of Total\",\n",
    "    \"Gross Domestic Product\",\n",
    "    \"Bankrupties of CP\",\n",
    "    \"PGINI_I\",\n",
    "    \"GINI_W\",\n",
    "    \"Labor Income Share\",\n",
    "    \"avg_pi_LP\",\n",
    "    \"avg_A_EE\",\n",
    "    \"avg_A_EF\",\n",
    "    \"Unemployment\",\n",
    "    \"Investment\",\n",
    "    \"Consumption\"\n",
    "]\n"
   ]
  },
  {
   "cell_type": "code",
   "execution_count": 13,
   "metadata": {},
   "outputs": [],
   "source": [
    "colnames = {\n",
    "    'y': '$y$', \n",
    "    'α_cp': '$\\alpha_{cp}$', \n",
    "    'ω': '$\\omega$', \n",
    "    'λ': '$\\lambda$', \n",
    "    'κ_upper': '$\\kappa_{upper}$', \n",
    "    'prog': '$prog$', \n",
    "    'μ1': '$\\mu_1$', \n",
    "    'ϵ_w': '$\\epsilon_{w}$', \n",
    "    'ϵ_μ': '$\\\\bar{\\epsilon}_{\\mu}$', \n",
    "    'p_f': '$p_f$', \n",
    "    'ψ_P': '$\\psi_P$', \n",
    "    'ψ_Q': '$\\psi_Q$', \n",
    "    'ψ_E': '$\\psi_E$'\n",
    "}"
   ]
  },
  {
   "cell_type": "code",
   "execution_count": 32,
   "metadata": {},
   "outputs": [],
   "source": [
    "df = df.rename(columns=colnames)"
   ]
  },
  {
   "cell_type": "code",
   "execution_count": 33,
   "metadata": {},
   "outputs": [
    {
     "data": {
      "text/plain": [
       "0              em_index\n",
       "1     energy_percentage\n",
       "2                   GDP\n",
       "3           bankrupt_cp\n",
       "4                GINI_I\n",
       "5                GINI_W\n",
       "6                   LIS\n",
       "7             avg_pi_LP\n",
       "8              avg_A_EE\n",
       "9              avg_A_EF\n",
       "10                    U\n",
       "11              total_I\n",
       "12              total_C\n",
       "Name: $y$, dtype: object"
      ]
     },
     "execution_count": 33,
     "metadata": {},
     "output_type": "execute_result"
    }
   ],
   "source": [
    "df[\"$y$\"]"
   ]
  },
  {
   "cell_type": "code",
   "execution_count": 34,
   "metadata": {},
   "outputs": [],
   "source": [
    "df['$y$'] = rownames"
   ]
  },
  {
   "cell_type": "code",
   "execution_count": 35,
   "metadata": {},
   "outputs": [],
   "source": [
    "N_u = 500\n",
    "N_c = 100"
   ]
  },
  {
   "cell_type": "code",
   "execution_count": 37,
   "metadata": {},
   "outputs": [
    {
     "name": "stdout",
     "output_type": "stream",
     "text": [
      "1.6276236307187293 1.3581015157406195 1.2238734153404083\n"
     ]
    }
   ],
   "source": [
    "c_1 = np.sqrt(-.5 * np.log(0.01 / 2))\n",
    "c_5 = np.sqrt(-.5 * np.log(0.05 / 2))\n",
    "c_10 = np.sqrt(-.5 * np.log(0.1 / 2))\n",
    "\n",
    "print(c_1, c_5, c_10)"
   ]
  },
  {
   "cell_type": "code",
   "execution_count": 38,
   "metadata": {},
   "outputs": [
    {
     "name": "stdout",
     "output_type": "stream",
     "text": [
      "0.1782972355346213 0.14877256711061895 0.13406861542256618\n"
     ]
    }
   ],
   "source": [
    "KS_1 = c_1 * np.sqrt((N_u + N_c) / (N_u * N_c))\n",
    "KS_5 = c_5 * np.sqrt((N_u + N_c) / (N_u * N_c))\n",
    "KS_10 = c_10 * np.sqrt((N_u + N_c) / (N_u * N_c))\n",
    "\n",
    "print(KS_1, KS_5, KS_10)"
   ]
  },
  {
   "cell_type": "code",
   "execution_count": 39,
   "metadata": {},
   "outputs": [
    {
     "name": "stderr",
     "output_type": "stream",
     "text": [
      "/var/folders/n5/636hh_6s0pl03rdtjj6fd0vw0000gn/T/ipykernel_30193/1142983302.py:4: SettingWithCopyWarning: \n",
      "A value is trying to be set on a copy of a slice from a DataFrame\n",
      "\n",
      "See the caveats in the documentation: https://pandas.pydata.org/pandas-docs/stable/user_guide/indexing.html#returning-a-view-versus-a-copy\n",
      "  df[col].iloc[j] = f'{str(np.round(row, 2))}'\n"
     ]
    }
   ],
   "source": [
    "for i, col in enumerate(df):\n",
    "    if i != 0:\n",
    "        for j, row in enumerate(df[col]):\n",
    "            df[col].iloc[j] = f'{str(np.round(row, 2))}'\n",
    "            if row > KS_1:\n",
    "                df[col].iloc[j] += \"$^{***}$\"\n",
    "            elif row > KS_5:\n",
    "                df[col].iloc[j] += \"$^{**}$\"\n",
    "            elif row > KS_10:\n",
    "                df[col].iloc[j] += \"$^{*}$\""
   ]
  },
  {
   "cell_type": "code",
   "execution_count": 40,
   "metadata": {},
   "outputs": [
    {
     "data": {
      "text/html": [
       "<div>\n",
       "<style scoped>\n",
       "    .dataframe tbody tr th:only-of-type {\n",
       "        vertical-align: middle;\n",
       "    }\n",
       "\n",
       "    .dataframe tbody tr th {\n",
       "        vertical-align: top;\n",
       "    }\n",
       "\n",
       "    .dataframe thead th {\n",
       "        text-align: right;\n",
       "    }\n",
       "</style>\n",
       "<table border=\"1\" class=\"dataframe\">\n",
       "  <thead>\n",
       "    <tr style=\"text-align: right;\">\n",
       "      <th></th>\n",
       "      <th>$y$</th>\n",
       "      <th>α_maxdev</th>\n",
       "      <th>$\\omega$</th>\n",
       "      <th>$\\lambda$</th>\n",
       "      <th>$\\kappa_{upper}$</th>\n",
       "      <th>$prog$</th>\n",
       "      <th>$\\mu_1$</th>\n",
       "      <th>$\\epsilon_{w}$</th>\n",
       "      <th>$\\bar{\\epsilon}_{\\mu}$</th>\n",
       "      <th>$p_f$</th>\n",
       "      <th>$\\psi_P$</th>\n",
       "      <th>$\\psi_Q$</th>\n",
       "      <th>$\\psi_E$</th>\n",
       "    </tr>\n",
       "  </thead>\n",
       "  <tbody>\n",
       "    <tr>\n",
       "      <th>0</th>\n",
       "      <td>CO_2 Emission Index</td>\n",
       "      <td>0.03</td>\n",
       "      <td>0.03</td>\n",
       "      <td>0.07</td>\n",
       "      <td>0.24$^{***}$</td>\n",
       "      <td>0.03</td>\n",
       "      <td>0.05</td>\n",
       "      <td>0.06</td>\n",
       "      <td>0.03</td>\n",
       "      <td>0.24$^{***}$</td>\n",
       "      <td>0.03</td>\n",
       "      <td>0.03</td>\n",
       "      <td>0.05</td>\n",
       "    </tr>\n",
       "    <tr>\n",
       "      <th>1</th>\n",
       "      <td>Energy Percentage of Total</td>\n",
       "      <td>0.02</td>\n",
       "      <td>0.03</td>\n",
       "      <td>0.04</td>\n",
       "      <td>0.6$^{***}$</td>\n",
       "      <td>0.03</td>\n",
       "      <td>0.03</td>\n",
       "      <td>0.03</td>\n",
       "      <td>0.03</td>\n",
       "      <td>0.03</td>\n",
       "      <td>0.03</td>\n",
       "      <td>0.03</td>\n",
       "      <td>0.03</td>\n",
       "    </tr>\n",
       "    <tr>\n",
       "      <th>2</th>\n",
       "      <td>Gross Domestic Product</td>\n",
       "      <td>0.05</td>\n",
       "      <td>0.07</td>\n",
       "      <td>0.14$^{*}$</td>\n",
       "      <td>0.08</td>\n",
       "      <td>0.14$^{*}$</td>\n",
       "      <td>0.17$^{**}$</td>\n",
       "      <td>0.06</td>\n",
       "      <td>0.04</td>\n",
       "      <td>0.11</td>\n",
       "      <td>0.03</td>\n",
       "      <td>0.03</td>\n",
       "      <td>0.08</td>\n",
       "    </tr>\n",
       "    <tr>\n",
       "      <th>3</th>\n",
       "      <td>Bankrupties of CP</td>\n",
       "      <td>0.04</td>\n",
       "      <td>0.08</td>\n",
       "      <td>0.18$^{**}$</td>\n",
       "      <td>0.05</td>\n",
       "      <td>0.05</td>\n",
       "      <td>0.09</td>\n",
       "      <td>0.07</td>\n",
       "      <td>0.04</td>\n",
       "      <td>0.05</td>\n",
       "      <td>0.03</td>\n",
       "      <td>0.05</td>\n",
       "      <td>0.14$^{*}$</td>\n",
       "    </tr>\n",
       "    <tr>\n",
       "      <th>4</th>\n",
       "      <td>PGINI_I</td>\n",
       "      <td>0.03</td>\n",
       "      <td>0.03</td>\n",
       "      <td>0.06</td>\n",
       "      <td>0.04</td>\n",
       "      <td>0.36$^{***}$</td>\n",
       "      <td>0.13</td>\n",
       "      <td>0.05</td>\n",
       "      <td>0.03</td>\n",
       "      <td>0.08</td>\n",
       "      <td>0.03</td>\n",
       "      <td>0.03</td>\n",
       "      <td>0.08</td>\n",
       "    </tr>\n",
       "  </tbody>\n",
       "</table>\n",
       "</div>"
      ],
      "text/plain": [
       "                          $y$ α_maxdev $\\omega$    $\\lambda$ $\\kappa_{upper}$  \\\n",
       "0         CO_2 Emission Index     0.03     0.03         0.07     0.24$^{***}$   \n",
       "1  Energy Percentage of Total     0.02     0.03         0.04      0.6$^{***}$   \n",
       "2      Gross Domestic Product     0.05     0.07   0.14$^{*}$             0.08   \n",
       "3           Bankrupties of CP     0.04     0.08  0.18$^{**}$             0.05   \n",
       "4                     PGINI_I     0.03     0.03         0.06             0.04   \n",
       "\n",
       "         $prog$      $\\mu_1$ $\\epsilon_{w}$ $\\bar{\\epsilon}_{\\mu}$  \\\n",
       "0          0.03         0.05           0.06                   0.03   \n",
       "1          0.03         0.03           0.03                   0.03   \n",
       "2    0.14$^{*}$  0.17$^{**}$           0.06                   0.04   \n",
       "3          0.05         0.09           0.07                   0.04   \n",
       "4  0.36$^{***}$         0.13           0.05                   0.03   \n",
       "\n",
       "          $p_f$ $\\psi_P$ $\\psi_Q$    $\\psi_E$  \n",
       "0  0.24$^{***}$     0.03     0.03        0.05  \n",
       "1          0.03     0.03     0.03        0.03  \n",
       "2          0.11     0.03     0.03        0.08  \n",
       "3          0.05     0.03     0.05  0.14$^{*}$  \n",
       "4          0.08     0.03     0.03        0.08  "
      ]
     },
     "execution_count": 40,
     "metadata": {},
     "output_type": "execute_result"
    }
   ],
   "source": [
    "df.head()"
   ]
  },
  {
   "cell_type": "code",
   "execution_count": 41,
   "metadata": {},
   "outputs": [
    {
     "name": "stdout",
     "output_type": "stream",
     "text": [
      "\\begin{tabular}{lllllllllllll}\n",
      "\\toprule\n",
      "                       $y$ & α_maxdev & $\\omega$ &   $\\lambda$ & $\\kappa_{upper}$ &       $prog$ &      $\\mu_1$ & $\\epsilon_{w}$ & $\\bar{\\epsilon}_{\\mu}$ &        $p_f$ & $\\psi_P$ & $\\psi_Q$ &    $\\psi_E$ \\\\\n",
      "\\midrule\n",
      "       CO_2 Emission Index &     0.03 &     0.03 &        0.07 &     0.24$^{***}$ &         0.03 &         0.05 &           0.06 &                   0.03 & 0.24$^{***}$ &     0.03 &     0.03 &        0.05 \\\\\n",
      "Energy Percentage of Total &     0.02 &     0.03 &        0.04 &      0.6$^{***}$ &         0.03 &         0.03 &           0.03 &                   0.03 &         0.03 &     0.03 &     0.03 &        0.03 \\\\\n",
      "    Gross Domestic Product &     0.05 &     0.07 &  0.14$^{*}$ &             0.08 &   0.14$^{*}$ &  0.17$^{**}$ &           0.06 &                   0.04 &         0.11 &     0.03 &     0.03 &        0.08 \\\\\n",
      "         Bankrupties of CP &     0.04 &     0.08 & 0.18$^{**}$ &             0.05 &         0.05 &         0.09 &           0.07 &                   0.04 &         0.05 &     0.03 &     0.05 &  0.14$^{*}$ \\\\\n",
      "                   PGINI_I &     0.03 &     0.03 &        0.06 &             0.04 & 0.36$^{***}$ &         0.13 &           0.05 &                   0.03 &         0.08 &     0.03 &     0.03 &        0.08 \\\\\n",
      "                    GINI_W &     0.08 &     0.03 &        0.05 &             0.03 & 0.34$^{***}$ &         0.03 &           0.04 &                   0.03 &         0.05 &     0.03 &     0.03 &        0.04 \\\\\n",
      "        Labor Income Share &     0.03 &     0.03 &        0.09 &             0.04 &         0.02 &  0.4$^{***}$ &           0.05 &                   0.04 &         0.06 &     0.02 &     0.02 &         0.1 \\\\\n",
      "                 avg_pi_LP &     0.03 &     0.04 &        0.06 &     0.44$^{***}$ &         0.03 &         0.06 &           0.04 &                   0.03 &         0.12 &     0.03 &     0.03 &        0.06 \\\\\n",
      "                  avg_A_EE &     0.02 &     0.05 &         0.1 &             0.11 &         0.03 &         0.05 &           0.03 &                   0.03 &         0.07 &     0.03 &     0.02 &        0.07 \\\\\n",
      "                  avg_A_EF &     0.02 &     0.05 &         0.1 &             0.11 &         0.03 &         0.05 &           0.03 &                   0.03 &         0.07 &     0.03 &     0.03 &        0.07 \\\\\n",
      "              Unemployment &     0.03 &     0.05 &        0.12 &             0.04 &         0.06 &  0.16$^{**}$ &            0.1 &                   0.04 &         0.06 &     0.03 &     0.03 & 0.2$^{***}$ \\\\\n",
      "                Investment &     0.04 &     0.08 & 0.2$^{***}$ &             0.05 &         0.07 & 0.19$^{***}$ &           0.05 &                   0.05 &         0.07 &     0.03 &     0.03 &        0.04 \\\\\n",
      "               Consumption &     0.04 &     0.06 &        0.08 &             0.06 &         0.13 & 0.26$^{***}$ &           0.04 &                   0.04 &         0.07 &     0.03 &     0.03 &        0.06 \\\\\n",
      "\\bottomrule\n",
      "\\end{tabular}\n",
      "\n"
     ]
    },
    {
     "name": "stderr",
     "output_type": "stream",
     "text": [
      "/var/folders/n5/636hh_6s0pl03rdtjj6fd0vw0000gn/T/ipykernel_30193/4005228765.py:1: FutureWarning: In future versions `DataFrame.to_latex` is expected to utilise the base implementation of `Styler.to_latex` for formatting and rendering. The arguments signature may therefore change. It is recommended instead to use `DataFrame.style.to_latex` which also contains additional functionality.\n",
      "  print(df.round(3).to_latex(index=False, escape=False))\n"
     ]
    }
   ],
   "source": [
    "print(df.round(3).to_latex(index=False, escape=False))"
   ]
  },
  {
   "cell_type": "code",
   "execution_count": 23,
   "metadata": {},
   "outputs": [
    {
     "ename": "ValueError",
     "evalue": "If using all scalar values, you must pass an index",
     "output_type": "error",
     "traceback": [
      "\u001b[0;31m---------------------------------------------------------------------------\u001b[0m",
      "\u001b[0;31mValueError\u001b[0m                                Traceback (most recent call last)",
      "\u001b[1;32m/Users/mengeshi/Documents/GitHub/Climate-Paper/parameters/sensitivity/create_table.ipynb Cell 19\u001b[0m line \u001b[0;36m<cell line: 17>\u001b[0;34m()\u001b[0m\n\u001b[1;32m      <a href='vscode-notebook-cell:/Users/mengeshi/Documents/GitHub/Climate-Paper/parameters/sensitivity/create_table.ipynb#X24sZmlsZQ%3D%3D?line=0'>1</a>\u001b[0m paramranges \u001b[39m=\u001b[39m {\n\u001b[1;32m      <a href='vscode-notebook-cell:/Users/mengeshi/Documents/GitHub/Climate-Paper/parameters/sensitivity/create_table.ipynb#X24sZmlsZQ%3D%3D?line=1'>2</a>\u001b[0m     \u001b[39m\"\u001b[39m\u001b[39m$\u001b[39m\u001b[39m\\\\\u001b[39;00m\u001b[39malpha_\u001b[39m\u001b[39m{cp}\u001b[39;00m\u001b[39m$\u001b[39m\u001b[39m\"\u001b[39m: \u001b[39m'\u001b[39m\u001b[39m[0.4, 1.0]\u001b[39m\u001b[39m'\u001b[39m,\n\u001b[1;32m      <a href='vscode-notebook-cell:/Users/mengeshi/Documents/GitHub/Climate-Paper/parameters/sensitivity/create_table.ipynb#X24sZmlsZQ%3D%3D?line=2'>3</a>\u001b[0m     \u001b[39m\"\u001b[39m\u001b[39mprog\u001b[39m\u001b[39m\"\u001b[39m: \u001b[39m'\u001b[39m\u001b[39m[-1.0, 1.0]\u001b[39m\u001b[39m'\u001b[39m,\n\u001b[0;32m   (...)\u001b[0m\n\u001b[1;32m     <a href='vscode-notebook-cell:/Users/mengeshi/Documents/GitHub/Climate-Paper/parameters/sensitivity/create_table.ipynb#X24sZmlsZQ%3D%3D?line=12'>13</a>\u001b[0m     \u001b[39m\"\u001b[39m\u001b[39m$p_f$\u001b[39m\u001b[39m\"\u001b[39m: \u001b[39m'\u001b[39m\u001b[39m[0.0, 1.0]\u001b[39m\u001b[39m'\u001b[39m\n\u001b[1;32m     <a href='vscode-notebook-cell:/Users/mengeshi/Documents/GitHub/Climate-Paper/parameters/sensitivity/create_table.ipynb#X24sZmlsZQ%3D%3D?line=13'>14</a>\u001b[0m }\n\u001b[1;32m     <a href='vscode-notebook-cell:/Users/mengeshi/Documents/GitHub/Climate-Paper/parameters/sensitivity/create_table.ipynb#X24sZmlsZQ%3D%3D?line=15'>16</a>\u001b[0m \u001b[39m# print(pd.DataFrame(paramranges).to_latex(index=False, escape=False))\u001b[39;00m\n\u001b[0;32m---> <a href='vscode-notebook-cell:/Users/mengeshi/Documents/GitHub/Climate-Paper/parameters/sensitivity/create_table.ipynb#X24sZmlsZQ%3D%3D?line=16'>17</a>\u001b[0m \u001b[39mprint\u001b[39m(pd\u001b[39m.\u001b[39;49mDataFrame(paramranges))\n",
      "File \u001b[0;32m/Library/Frameworks/Python.framework/Versions/3.10/lib/python3.10/site-packages/pandas/core/frame.py:663\u001b[0m, in \u001b[0;36mDataFrame.__init__\u001b[0;34m(self, data, index, columns, dtype, copy)\u001b[0m\n\u001b[1;32m    657\u001b[0m     mgr \u001b[39m=\u001b[39m \u001b[39mself\u001b[39m\u001b[39m.\u001b[39m_init_mgr(\n\u001b[1;32m    658\u001b[0m         data, axes\u001b[39m=\u001b[39m{\u001b[39m\"\u001b[39m\u001b[39mindex\u001b[39m\u001b[39m\"\u001b[39m: index, \u001b[39m\"\u001b[39m\u001b[39mcolumns\u001b[39m\u001b[39m\"\u001b[39m: columns}, dtype\u001b[39m=\u001b[39mdtype, copy\u001b[39m=\u001b[39mcopy\n\u001b[1;32m    659\u001b[0m     )\n\u001b[1;32m    661\u001b[0m \u001b[39melif\u001b[39;00m \u001b[39misinstance\u001b[39m(data, \u001b[39mdict\u001b[39m):\n\u001b[1;32m    662\u001b[0m     \u001b[39m# GH#38939 de facto copy defaults to False only in non-dict cases\u001b[39;00m\n\u001b[0;32m--> 663\u001b[0m     mgr \u001b[39m=\u001b[39m dict_to_mgr(data, index, columns, dtype\u001b[39m=\u001b[39;49mdtype, copy\u001b[39m=\u001b[39;49mcopy, typ\u001b[39m=\u001b[39;49mmanager)\n\u001b[1;32m    664\u001b[0m \u001b[39melif\u001b[39;00m \u001b[39misinstance\u001b[39m(data, ma\u001b[39m.\u001b[39mMaskedArray):\n\u001b[1;32m    665\u001b[0m     \u001b[39mimport\u001b[39;00m \u001b[39mnumpy\u001b[39;00m\u001b[39m.\u001b[39;00m\u001b[39mma\u001b[39;00m\u001b[39m.\u001b[39;00m\u001b[39mmrecords\u001b[39;00m \u001b[39mas\u001b[39;00m \u001b[39mmrecords\u001b[39;00m\n",
      "File \u001b[0;32m/Library/Frameworks/Python.framework/Versions/3.10/lib/python3.10/site-packages/pandas/core/internals/construction.py:494\u001b[0m, in \u001b[0;36mdict_to_mgr\u001b[0;34m(data, index, columns, dtype, typ, copy)\u001b[0m\n\u001b[1;32m    490\u001b[0m     \u001b[39melse\u001b[39;00m:\n\u001b[1;32m    491\u001b[0m         \u001b[39m# dtype check to exclude e.g. range objects, scalars\u001b[39;00m\n\u001b[1;32m    492\u001b[0m         arrays \u001b[39m=\u001b[39m [x\u001b[39m.\u001b[39mcopy() \u001b[39mif\u001b[39;00m \u001b[39mhasattr\u001b[39m(x, \u001b[39m\"\u001b[39m\u001b[39mdtype\u001b[39m\u001b[39m\"\u001b[39m) \u001b[39melse\u001b[39;00m x \u001b[39mfor\u001b[39;00m x \u001b[39min\u001b[39;00m arrays]\n\u001b[0;32m--> 494\u001b[0m \u001b[39mreturn\u001b[39;00m arrays_to_mgr(arrays, columns, index, dtype\u001b[39m=\u001b[39;49mdtype, typ\u001b[39m=\u001b[39;49mtyp, consolidate\u001b[39m=\u001b[39;49mcopy)\n",
      "File \u001b[0;32m/Library/Frameworks/Python.framework/Versions/3.10/lib/python3.10/site-packages/pandas/core/internals/construction.py:119\u001b[0m, in \u001b[0;36marrays_to_mgr\u001b[0;34m(arrays, columns, index, dtype, verify_integrity, typ, consolidate)\u001b[0m\n\u001b[1;32m    116\u001b[0m \u001b[39mif\u001b[39;00m verify_integrity:\n\u001b[1;32m    117\u001b[0m     \u001b[39m# figure out the index, if necessary\u001b[39;00m\n\u001b[1;32m    118\u001b[0m     \u001b[39mif\u001b[39;00m index \u001b[39mis\u001b[39;00m \u001b[39mNone\u001b[39;00m:\n\u001b[0;32m--> 119\u001b[0m         index \u001b[39m=\u001b[39m _extract_index(arrays)\n\u001b[1;32m    120\u001b[0m     \u001b[39melse\u001b[39;00m:\n\u001b[1;32m    121\u001b[0m         index \u001b[39m=\u001b[39m ensure_index(index)\n",
      "File \u001b[0;32m/Library/Frameworks/Python.framework/Versions/3.10/lib/python3.10/site-packages/pandas/core/internals/construction.py:657\u001b[0m, in \u001b[0;36m_extract_index\u001b[0;34m(data)\u001b[0m\n\u001b[1;32m    654\u001b[0m         \u001b[39mraise\u001b[39;00m \u001b[39mValueError\u001b[39;00m(\u001b[39m\"\u001b[39m\u001b[39mPer-column arrays must each be 1-dimensional\u001b[39m\u001b[39m\"\u001b[39m)\n\u001b[1;32m    656\u001b[0m \u001b[39mif\u001b[39;00m \u001b[39mnot\u001b[39;00m indexes \u001b[39mand\u001b[39;00m \u001b[39mnot\u001b[39;00m raw_lengths:\n\u001b[0;32m--> 657\u001b[0m     \u001b[39mraise\u001b[39;00m \u001b[39mValueError\u001b[39;00m(\u001b[39m\"\u001b[39m\u001b[39mIf using all scalar values, you must pass an index\u001b[39m\u001b[39m\"\u001b[39m)\n\u001b[1;32m    659\u001b[0m \u001b[39melif\u001b[39;00m have_series:\n\u001b[1;32m    660\u001b[0m     index \u001b[39m=\u001b[39m union_indexes(indexes)\n",
      "\u001b[0;31mValueError\u001b[0m: If using all scalar values, you must pass an index"
     ]
    }
   ],
   "source": [
    "paramranges = {\n",
    "    \"$\\\\alpha_{cp}$\": '[0.4, 1.0]',\n",
    "    \"prog\": '[-1.0, 1.0]',\n",
    "    \"$\\mu_1$\": '[0.0, 0.5]',\n",
    "    \"$\\omega$\": '[0.0, 1.0]',\n",
    "    \"$\\lambda$\": '[0.0, 1.0]',\n",
    "    \"$\\\\bar{\\epsilon}_w$\": '[0.0, 0.1]',\n",
    "    \"$\\epsilon_\\mu$\": '[0.0, 0.1]',\n",
    "    \"$\\kappa_{upper}$\": '[0.0, 0.01]',\n",
    "    \"$\\psi_E$\": '[0., 0.25]',\n",
    "    \"$\\psi_Q$\": '[0., 0.25]',\n",
    "    \"$\\psi_P$\": '[0., 0.25]',\n",
    "    \"$p_f$\": '[0.0, 1.0]'\n",
    "}\n",
    "\n",
    "# print(pd.DataFrame(paramranges).to_latex(index=False, escape=False))\n",
    "print(pd.DataFrame(paramranges))"
   ]
  },
  {
   "cell_type": "code",
   "execution_count": 4,
   "metadata": {},
   "outputs": [
    {
     "data": {
      "text/html": [
       "<div>\n",
       "<style scoped>\n",
       "    .dataframe tbody tr th:only-of-type {\n",
       "        vertical-align: middle;\n",
       "    }\n",
       "\n",
       "    .dataframe tbody tr th {\n",
       "        vertical-align: top;\n",
       "    }\n",
       "\n",
       "    .dataframe thead th {\n",
       "        text-align: right;\n",
       "    }\n",
       "</style>\n",
       "<table border=\"1\" class=\"dataframe\">\n",
       "  <thead>\n",
       "    <tr style=\"text-align: right;\">\n",
       "      <th></th>\n",
       "      <th>sim_nr</th>\n",
       "      <th>GDP</th>\n",
       "      <th>em_index</th>\n",
       "      <th>energy_percentage</th>\n",
       "    </tr>\n",
       "  </thead>\n",
       "  <tbody>\n",
       "    <tr>\n",
       "      <th>0</th>\n",
       "      <td>1</td>\n",
       "      <td>5.365597e+05</td>\n",
       "      <td>188.528266</td>\n",
       "      <td>0.739091</td>\n",
       "    </tr>\n",
       "    <tr>\n",
       "      <th>1</th>\n",
       "      <td>2</td>\n",
       "      <td>7.170684e+07</td>\n",
       "      <td>96.869657</td>\n",
       "      <td>0.165251</td>\n",
       "    </tr>\n",
       "  </tbody>\n",
       "</table>\n",
       "</div>"
      ],
      "text/plain": [
       "   sim_nr           GDP    em_index  energy_percentage\n",
       "0       1  5.365597e+05  188.528266           0.739091\n",
       "1       2  7.170684e+07   96.869657           0.165251"
      ]
     },
     "execution_count": 4,
     "metadata": {},
     "output_type": "execute_result"
    }
   ],
   "source": [
    "#import functionf form run_GSA.py\n",
    "#from run_GSA import *\n",
    "import pandas as pd\n",
    "import numpy as np\n",
    "import os \n",
    "\n",
    "\n",
    "def aggregate_data(data_path):\n",
    "    # Read in the data\n",
    "    df = pd.read_csv(data_path)\n",
    "    # Group by 'sim_nr' and then apply a lambda function to take the mean of the last 20 rows for each column\n",
    "    grouped_df = df.groupby('sim_nr').apply(lambda x: x[-20:].mean(numeric_only=True))\n",
    "    \n",
    "    # Reset the index while avoiding an extra 'sim_nr' column\n",
    "    grouped_df.reset_index(drop=True, inplace=True)\n",
    "    \n",
    "    # Add the 'sim_nr' values as a new column at the beginning of the DataFrame\n",
    "    grouped_df['sim_nr'] = df['sim_nr'].unique()\n",
    "    \n",
    "    # Reorder the columns to make 'sim_nr' the first column\n",
    "    cols = ['sim_nr'] + [col for col in grouped_df.columns if col != 'sim_nr']\n",
    "    grouped_df = grouped_df[cols]\n",
    "\n",
    "    grouped_df.to_csv(f'sensitivity_runs/output_data_agg/{data_path.split(\"/\")[-1]}', index=False)  \n",
    "    return grouped_df\n",
    "\n",
    "X_labels = {\n",
    "    \"α_maxdev\": [0.005, 0.5],\n",
    "    \"ρ\": [0.05, 0.8],\n",
    "    \"prog\": [-1.0, 1.0],\n",
    "    \"μ1\": [0.0, 0.5],\n",
    "    \"ω\": [0.0, 1.0],\n",
    "    \"λ\": [0.0, 1.0],\n",
    "    \"ϵ_w\": [0.0, 0.1],\n",
    "    \"ϵ_μ\": [0.0, 0.1],\n",
    "    \"κ_upper\": [0.0, 0.01],\n",
    "    \"ψ_E\": [0.0, 0.25],\n",
    "    \"ψ_Q\": [0.0, 0.25],\n",
    "    \"ψ_P\": [0.0, 0.25],\n",
    "    \"p_f\": [0.0, 1.0]\n",
    "}\n",
    "run_nr = 9\n",
    "\n",
    "# Converting the Julia function to a Python function\n",
    "def get_output_path(parl_id: int, run_nr: int) -> str:\n",
    "    return f\"sensitivity_runs/output_data/gsa_output_run{run_nr}_thread{parl_id}.csv\"\n",
    "out_path = get_output_path(1, run_nr)\n",
    "\n",
    "new_df=aggregate_data(get_output_path(1, run_nr))\n",
    "new_df.head()\n",
    "# run_PAWN(X_labels, X, Y, type, run_nr, name_dep_var, crit, n=10, Nboot=3000)\n",
    "# run_PAWN(X_labels, run_nr, N_u, N_c, outputpath; nthreads=Threads.nthreads())"
   ]
  },
  {
   "cell_type": "code",
   "execution_count": null,
   "metadata": {},
   "outputs": [],
   "source": []
  }
 ],
 "metadata": {
  "kernelspec": {
   "display_name": "Python 3.8.10 64-bit",
   "language": "python",
   "name": "python3"
  },
  "language_info": {
   "codemirror_mode": {
    "name": "ipython",
    "version": 3
   },
   "file_extension": ".py",
   "mimetype": "text/x-python",
   "name": "python",
   "nbconvert_exporter": "python",
   "pygments_lexer": "ipython3",
   "version": "3.10.2"
  },
  "orig_nbformat": 4,
  "vscode": {
   "interpreter": {
    "hash": "31f2aee4e71d21fbe5cf8b01ff0e069b9275f58929596ceb00d14d90e3e16cd6"
   }
  }
 },
 "nbformat": 4,
 "nbformat_minor": 2
}
